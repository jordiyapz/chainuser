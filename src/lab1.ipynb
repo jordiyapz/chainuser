{
    "cells": [
        {
            "cell_type": "code",
            "execution_count": 40,
            "source": [
                "from src.helper import load_matrix\r\n",
                "import numpy as np\r\n",
                "import pandas as pd"
            ],
            "outputs": [],
            "metadata": {}
        },
        {
            "cell_type": "code",
            "execution_count": 101,
            "source": [
                "BASE_PATH = 'D:/Coding/Project/chainuser'"
            ],
            "outputs": [],
            "metadata": {}
        },
        {
            "cell_type": "code",
            "execution_count": 129,
            "source": [
                "vaksinasi_df = pd.read_pickle(f'{BASE_PATH}/data/vaksinasi_simplified.pkl')\r\n",
                "user_df = pd.read_pickle(f'{BASE_PATH}/data/process.pkl')\r\n",
                "user_df"
            ],
            "outputs": [
                {
                    "output_type": "execute_result",
                    "data": {
                        "text/plain": [
                            "                 indice  processed_at\n",
                            "007koteka             0           NaN\n",
                            "00apr_                1       94005.0\n",
                            "00a_nhs               2       27512.0\n",
                            "00Cikupa              3           NaN\n",
                            "011111pah             4        4532.0\n",
                            "...                 ...           ...\n",
                            "_____eunoia       38784       56738.0\n",
                            "_____heartofmay   38785           NaN\n",
                            "_____onmyway      38786           NaN\n",
                            "______apek        38787       30074.0\n",
                            "_________elll     38788           NaN\n",
                            "\n",
                            "[38789 rows x 2 columns]"
                        ],
                        "text/html": [
                            "<div>\n",
                            "<style scoped>\n",
                            "    .dataframe tbody tr th:only-of-type {\n",
                            "        vertical-align: middle;\n",
                            "    }\n",
                            "\n",
                            "    .dataframe tbody tr th {\n",
                            "        vertical-align: top;\n",
                            "    }\n",
                            "\n",
                            "    .dataframe thead th {\n",
                            "        text-align: right;\n",
                            "    }\n",
                            "</style>\n",
                            "<table border=\"1\" class=\"dataframe\">\n",
                            "  <thead>\n",
                            "    <tr style=\"text-align: right;\">\n",
                            "      <th></th>\n",
                            "      <th>indice</th>\n",
                            "      <th>processed_at</th>\n",
                            "    </tr>\n",
                            "  </thead>\n",
                            "  <tbody>\n",
                            "    <tr>\n",
                            "      <th>007koteka</th>\n",
                            "      <td>0</td>\n",
                            "      <td>NaN</td>\n",
                            "    </tr>\n",
                            "    <tr>\n",
                            "      <th>00apr_</th>\n",
                            "      <td>1</td>\n",
                            "      <td>94005.0</td>\n",
                            "    </tr>\n",
                            "    <tr>\n",
                            "      <th>00a_nhs</th>\n",
                            "      <td>2</td>\n",
                            "      <td>27512.0</td>\n",
                            "    </tr>\n",
                            "    <tr>\n",
                            "      <th>00Cikupa</th>\n",
                            "      <td>3</td>\n",
                            "      <td>NaN</td>\n",
                            "    </tr>\n",
                            "    <tr>\n",
                            "      <th>011111pah</th>\n",
                            "      <td>4</td>\n",
                            "      <td>4532.0</td>\n",
                            "    </tr>\n",
                            "    <tr>\n",
                            "      <th>...</th>\n",
                            "      <td>...</td>\n",
                            "      <td>...</td>\n",
                            "    </tr>\n",
                            "    <tr>\n",
                            "      <th>_____eunoia</th>\n",
                            "      <td>38784</td>\n",
                            "      <td>56738.0</td>\n",
                            "    </tr>\n",
                            "    <tr>\n",
                            "      <th>_____heartofmay</th>\n",
                            "      <td>38785</td>\n",
                            "      <td>NaN</td>\n",
                            "    </tr>\n",
                            "    <tr>\n",
                            "      <th>_____onmyway</th>\n",
                            "      <td>38786</td>\n",
                            "      <td>NaN</td>\n",
                            "    </tr>\n",
                            "    <tr>\n",
                            "      <th>______apek</th>\n",
                            "      <td>38787</td>\n",
                            "      <td>30074.0</td>\n",
                            "    </tr>\n",
                            "    <tr>\n",
                            "      <th>_________elll</th>\n",
                            "      <td>38788</td>\n",
                            "      <td>NaN</td>\n",
                            "    </tr>\n",
                            "  </tbody>\n",
                            "</table>\n",
                            "<p>38789 rows × 2 columns</p>\n",
                            "</div>"
                        ]
                    },
                    "metadata": {},
                    "execution_count": 129
                }
            ],
            "metadata": {}
        },
        {
            "cell_type": "code",
            "execution_count": 160,
            "source": [
                "user_ser = pd.Series(user_df.index, index=user_df['indice'], name='name')\r\n",
                "user_ser.index.set_names(None, inplace=True)\r\n",
                "user_ser"
            ],
            "outputs": [
                {
                    "output_type": "execute_result",
                    "data": {
                        "text/plain": [
                            "0              007koteka\n",
                            "1                 00apr_\n",
                            "2                00a_nhs\n",
                            "3               00Cikupa\n",
                            "4              011111pah\n",
                            "              ...       \n",
                            "38784        _____eunoia\n",
                            "38785    _____heartofmay\n",
                            "38786       _____onmyway\n",
                            "38787         ______apek\n",
                            "38788      _________elll\n",
                            "Name: name, Length: 38789, dtype: object"
                        ]
                    },
                    "metadata": {},
                    "execution_count": 160
                }
            ],
            "metadata": {}
        },
        {
            "cell_type": "code",
            "execution_count": 103,
            "source": [
                "# mat = load_matrix('data/chainmatrix.npz').tocsr()\r\n",
                "lil = load_matrix(f'{BASE_PATH}\\data\\chainmatrix.npz')\r\n",
                "mat = lil.tocsr()"
            ],
            "outputs": [],
            "metadata": {}
        },
        {
            "cell_type": "code",
            "execution_count": 33,
            "source": [
                "rows, cols = lil.nonzero()\r\n",
                "row_ct = np.bincount(rows)\r\n",
                "row_indices = row_ct.argsort()[::-1][:10]\r\n",
                "# lil[row_indices].tocsc()\r\n",
                "# row_ct[row_indices]\r\n",
                "row_indices"
            ],
            "outputs": [
                {
                    "output_type": "execute_result",
                    "data": {
                        "text/plain": [
                            "array([ 7399, 32704, 21347, 21088, 16547, 11103,  9026, 26731, 34627,\n",
                            "       12890], dtype=int64)"
                        ]
                    },
                    "metadata": {},
                    "execution_count": 33
                }
            ],
            "metadata": {}
        },
        {
            "cell_type": "code",
            "execution_count": 126,
            "source": [
                "csc = lil.tocsc()"
            ],
            "outputs": [],
            "metadata": {}
        },
        {
            "cell_type": "code",
            "execution_count": 183,
            "source": [
                "main_df = pd.DataFrame({'follower': pd.Series([], dtype='str'),\r\n",
                "                        'followee': pd.Series([], dtype='str'),\r\n",
                "                        'delta': pd.Series([], dtype=np.float32)})\r\n",
                "for r_in in row_indices:\r\n",
                "    idx = cols[rows == r_in]\r\n",
                "    x = csc[r_in, idx].toarray().flatten()\r\n",
                "    following = user_ser.loc[idx]\r\n",
                "    df = pd.DataFrame(np.array((x, following)).T, columns=['delta', 'followee'])\r\n",
                "    df.sort_values('delta', inplace=True)\r\n",
                "    df['follower'] = user_ser[r_in]\r\n",
                "    main_df = main_df.append(df[['follower', 'followee', 'delta']], ignore_index=True)\r\n",
                "\r\n",
                "main_df"
            ],
            "outputs": [
                {
                    "output_type": "execute_result",
                    "data": {
                        "text/plain": [
                            "             follower         followee     delta\n",
                            "0      Bunga01_Seroja        Fayola_88     449.0\n",
                            "1      Bunga01_Seroja  simamora_lamhot     841.0\n",
                            "2      Bunga01_Seroja       GuritTaman    1467.0\n",
                            "3      Bunga01_Seroja      dewipoe1128    1825.0\n",
                            "4      Bunga01_Seroja  RelawanNusanta1    2255.0\n",
                            "...               ...              ...       ...\n",
                            "15052     Flamboyan59       pitradhana  853006.0\n",
                            "15053     Flamboyan59         mbahstp_  853070.0\n",
                            "15054     Flamboyan59          blesen3  853574.0\n",
                            "15055     Flamboyan59          JemuneG  854142.0\n",
                            "15056     Flamboyan59         sheibano  854577.0\n",
                            "\n",
                            "[15057 rows x 3 columns]"
                        ],
                        "text/html": [
                            "<div>\n",
                            "<style scoped>\n",
                            "    .dataframe tbody tr th:only-of-type {\n",
                            "        vertical-align: middle;\n",
                            "    }\n",
                            "\n",
                            "    .dataframe tbody tr th {\n",
                            "        vertical-align: top;\n",
                            "    }\n",
                            "\n",
                            "    .dataframe thead th {\n",
                            "        text-align: right;\n",
                            "    }\n",
                            "</style>\n",
                            "<table border=\"1\" class=\"dataframe\">\n",
                            "  <thead>\n",
                            "    <tr style=\"text-align: right;\">\n",
                            "      <th></th>\n",
                            "      <th>follower</th>\n",
                            "      <th>followee</th>\n",
                            "      <th>delta</th>\n",
                            "    </tr>\n",
                            "  </thead>\n",
                            "  <tbody>\n",
                            "    <tr>\n",
                            "      <th>0</th>\n",
                            "      <td>Bunga01_Seroja</td>\n",
                            "      <td>Fayola_88</td>\n",
                            "      <td>449.0</td>\n",
                            "    </tr>\n",
                            "    <tr>\n",
                            "      <th>1</th>\n",
                            "      <td>Bunga01_Seroja</td>\n",
                            "      <td>simamora_lamhot</td>\n",
                            "      <td>841.0</td>\n",
                            "    </tr>\n",
                            "    <tr>\n",
                            "      <th>2</th>\n",
                            "      <td>Bunga01_Seroja</td>\n",
                            "      <td>GuritTaman</td>\n",
                            "      <td>1467.0</td>\n",
                            "    </tr>\n",
                            "    <tr>\n",
                            "      <th>3</th>\n",
                            "      <td>Bunga01_Seroja</td>\n",
                            "      <td>dewipoe1128</td>\n",
                            "      <td>1825.0</td>\n",
                            "    </tr>\n",
                            "    <tr>\n",
                            "      <th>4</th>\n",
                            "      <td>Bunga01_Seroja</td>\n",
                            "      <td>RelawanNusanta1</td>\n",
                            "      <td>2255.0</td>\n",
                            "    </tr>\n",
                            "    <tr>\n",
                            "      <th>...</th>\n",
                            "      <td>...</td>\n",
                            "      <td>...</td>\n",
                            "      <td>...</td>\n",
                            "    </tr>\n",
                            "    <tr>\n",
                            "      <th>15052</th>\n",
                            "      <td>Flamboyan59</td>\n",
                            "      <td>pitradhana</td>\n",
                            "      <td>853006.0</td>\n",
                            "    </tr>\n",
                            "    <tr>\n",
                            "      <th>15053</th>\n",
                            "      <td>Flamboyan59</td>\n",
                            "      <td>mbahstp_</td>\n",
                            "      <td>853070.0</td>\n",
                            "    </tr>\n",
                            "    <tr>\n",
                            "      <th>15054</th>\n",
                            "      <td>Flamboyan59</td>\n",
                            "      <td>blesen3</td>\n",
                            "      <td>853574.0</td>\n",
                            "    </tr>\n",
                            "    <tr>\n",
                            "      <th>15055</th>\n",
                            "      <td>Flamboyan59</td>\n",
                            "      <td>JemuneG</td>\n",
                            "      <td>854142.0</td>\n",
                            "    </tr>\n",
                            "    <tr>\n",
                            "      <th>15056</th>\n",
                            "      <td>Flamboyan59</td>\n",
                            "      <td>sheibano</td>\n",
                            "      <td>854577.0</td>\n",
                            "    </tr>\n",
                            "  </tbody>\n",
                            "</table>\n",
                            "<p>15057 rows × 3 columns</p>\n",
                            "</div>"
                        ]
                    },
                    "metadata": {},
                    "execution_count": 183
                }
            ],
            "metadata": {}
        },
        {
            "cell_type": "code",
            "execution_count": null,
            "source": [
                "main_df.to_csv(f'{BASE_PATH}/data/top10.csv', index=None)"
            ],
            "outputs": [],
            "metadata": {}
        },
        {
            "cell_type": "code",
            "execution_count": null,
            "source": [
                "for i, j in zip(*mat.nonzero()):\r\n",
                "    print(lil[i, j])"
            ],
            "outputs": [],
            "metadata": {}
        },
        {
            "cell_type": "code",
            "execution_count": 91,
            "source": [
                "arr = mat[18141].toarray()[0]\r\n",
                "arr.argsort()[::-1]"
            ],
            "outputs": [
                {
                    "output_type": "execute_result",
                    "data": {
                        "text/plain": [
                            "array([27202,  5997, 19813, ..., 25855, 25854,     0], dtype=int64)"
                        ]
                    },
                    "metadata": {},
                    "execution_count": 91
                }
            ],
            "metadata": {}
        },
        {
            "cell_type": "code",
            "execution_count": null,
            "source": [],
            "outputs": [],
            "metadata": {}
        }
    ],
    "metadata": {
        "orig_nbformat": 4,
        "language_info": {
            "name": "python",
            "version": "3.7.3",
            "mimetype": "text/x-python",
            "codemirror_mode": {
                "name": "ipython",
                "version": 3
            },
            "pygments_lexer": "ipython3",
            "nbconvert_exporter": "python",
            "file_extension": ".py"
        },
        "kernelspec": {
            "name": "python3",
            "display_name": "Python 3.7.3 64-bit ('chainuser': virtualenvwrapper)"
        },
        "interpreter": {
            "hash": "d00fc8862d8aa2c0037bc6caf2af7fae7af860cee5b45dd478cd5df6a6f8ec5d"
        }
    },
    "nbformat": 4,
    "nbformat_minor": 2
}