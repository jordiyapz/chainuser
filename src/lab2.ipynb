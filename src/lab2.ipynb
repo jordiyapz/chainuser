{
 "cells": [
  {
   "cell_type": "code",
   "execution_count": 1,
   "source": [
    "from src.helper import load_matrix\r\n",
    "import numpy as np\r\n",
    "import pandas as pd\r\n",
    "from scipy.sparse import lil_matrix"
   ],
   "outputs": [],
   "metadata": {}
  },
  {
   "cell_type": "code",
   "execution_count": 2,
   "source": [
    "BASE_PATH = 'D:/Coding/Project/chainuser'"
   ],
   "outputs": [],
   "metadata": {}
  },
  {
   "cell_type": "code",
   "execution_count": 33,
   "source": [
    "def get_time(sec):\r\n",
    "    day = sec // (24*3600)\r\n",
    "    sec = sec % (24*3600)\r\n",
    "    hour = sec // 3600\r\n",
    "    sec = sec % 3600\r\n",
    "    minute = sec // 60\r\n",
    "    sec = sec % 60\r\n",
    "    day, hour, minute, sec = (map(int, (day, hour, minute, sec)))\r\n",
    "    return {'day': day, 'hour': hour, 'minute':minute, 'second':sec}"
   ],
   "outputs": [],
   "metadata": {}
  },
  {
   "cell_type": "code",
   "execution_count": 3,
   "source": [
    "vaksinasi_df = pd.read_pickle(f'{BASE_PATH}/data/vaksinasi_simplified.pkl')\r\n",
    "user_df = pd.read_pickle(f'{BASE_PATH}/data/process.pkl')"
   ],
   "outputs": [],
   "metadata": {}
  },
  {
   "cell_type": "code",
   "execution_count": 4,
   "source": [
    "user_ser = pd.Series(user_df.index, index=user_df['indice'], name='name')\r\n",
    "user_ser.index.set_names(None, inplace=True)"
   ],
   "outputs": [],
   "metadata": {}
  },
  {
   "cell_type": "code",
   "execution_count": 5,
   "source": [
    "lil = load_matrix(f'{BASE_PATH}\\data\\chainmatrix.npz')\r\n",
    "csc = lil.tocsc()\r\n",
    "csr = lil.tocsr()"
   ],
   "outputs": [],
   "metadata": {}
  },
  {
   "cell_type": "code",
   "execution_count": 6,
   "source": [
    "nz_rows, nz_cols = lil.nonzero()"
   ],
   "outputs": [],
   "metadata": {}
  },
  {
   "cell_type": "code",
   "execution_count": 7,
   "source": [
    "id_mr_x = 10073\r\n",
    "mr_x = user_ser[id_mr_x]\r\n",
    "mr_x"
   ],
   "outputs": [
    {
     "output_type": "execute_result",
     "data": {
      "text/plain": [
       "'diskominfo_wsb'"
      ]
     },
     "metadata": {},
     "execution_count": 7
    }
   ],
   "metadata": {}
  },
  {
   "cell_type": "code",
   "execution_count": 8,
   "source": [
    "followers_1, _ = csc.getcol(id_mr_x).nonzero()  # followers_1 adalah followernya mr_x\r\n",
    "followers_1"
   ],
   "outputs": [
    {
     "output_type": "execute_result",
     "data": {
      "text/plain": [
       "array([ 1958,  4091, 19602, 20733, 20935, 27873])"
      ]
     },
     "metadata": {},
     "execution_count": 8
    }
   ],
   "metadata": {}
  },
  {
   "cell_type": "code",
   "execution_count": 13,
   "source": [
    "csc[followers_1, id_mr_x].toarray().flatten() "
   ],
   "outputs": [
    {
     "output_type": "execute_result",
     "data": {
      "text/plain": [
       "array([ 75245., 193293., 148415., 169703., 194587.,  64460.],\n",
       "      dtype=float32)"
      ]
     },
     "metadata": {},
     "execution_count": 13
    }
   ],
   "metadata": {}
  },
  {
   "cell_type": "code",
   "execution_count": 14,
   "source": [
    "followers_1 = nz_rows[np.isin(nz_cols, id_mr_x)]\r\n",
    "followers_1"
   ],
   "outputs": [
    {
     "output_type": "execute_result",
     "data": {
      "text/plain": [
       "array([ 1958,  4091, 19602, 20733, 20935, 27873])"
      ]
     },
     "metadata": {},
     "execution_count": 14
    }
   ],
   "metadata": {}
  },
  {
   "cell_type": "code",
   "execution_count": 15,
   "source": [
    "followers_1[np.isin(followers_1, nz_cols)]  # beberapa followersnya mr x punya follower juga"
   ],
   "outputs": [
    {
     "output_type": "execute_result",
     "data": {
      "text/plain": [
       "array([ 4091, 19602, 20733])"
      ]
     },
     "metadata": {},
     "execution_count": 15
    }
   ],
   "metadata": {}
  },
  {
   "cell_type": "code",
   "execution_count": 17,
   "source": [
    "followers_2 = nz_rows[np.isin(nz_cols, followers_1)]  # orang-orang ini memfollow followersnya mr x\r\n",
    "followers_2"
   ],
   "outputs": [
    {
     "output_type": "execute_result",
     "data": {
      "text/plain": [
       "array([ 1590,  5990, 17541, 33579])"
      ]
     },
     "metadata": {},
     "execution_count": 17
    }
   ],
   "metadata": {}
  },
  {
   "cell_type": "code",
   "execution_count": 18,
   "source": [
    "followers_2[np.isin(followers_2, nz_cols)]"
   ],
   "outputs": [
    {
     "output_type": "execute_result",
     "data": {
      "text/plain": [
       "array([ 1590,  5990, 33579])"
      ]
     },
     "metadata": {},
     "execution_count": 18
    }
   ],
   "metadata": {}
  },
  {
   "cell_type": "code",
   "execution_count": 19,
   "source": [
    "followers_3 = nz_rows[np.isin(nz_cols, followers_2)]  # orang-orang ini memfollow followersnya followers mr x\r\n",
    "followers_3"
   ],
   "outputs": [
    {
     "output_type": "execute_result",
     "data": {
      "text/plain": [
       "array([  417,  3137,  3531, 11097, 14654, 20294, 26357, 26970, 29470,\n",
       "       32610, 33400, 33654, 33655])"
      ]
     },
     "metadata": {},
     "execution_count": 19
    }
   ],
   "metadata": {}
  },
  {
   "cell_type": "code",
   "execution_count": 21,
   "source": [
    "followers_group = []\r\n",
    "current_cols = np.asarray([id_mr_x])\r\n",
    "# followers_group.append(current_cols)\r\n",
    "# print(current_cols.shape[0])\r\n",
    "\r\n",
    "ct = 0\r\n",
    "thres = 2\r\n",
    "while True:\r\n",
    "    # popular_followers = np.isin(nz_cols, current_cols)  # follower yg difollow orang\r\n",
    "    # followers = nz_rows[popular_followers]  # followers dari para follower yang populer\r\n",
    "    followers, cols = csc[:, current_cols].nonzero()\r\n",
    "    popular_followers = current_cols[cols]\r\n",
    "    # followers_group.append(np.array([followers, popular_followers]))\r\n",
    "    print(np.array([followers, popular_followers]))\r\n",
    "    # print(popular_followers)\r\n",
    "    # print(popular_followers.shape[0])\r\n",
    "    current_cols = followers\r\n",
    "    \r\n",
    "    ct += 1\r\n",
    "    if ct >= thres:\r\n",
    "        break\r\n"
   ],
   "outputs": [
    {
     "output_type": "stream",
     "name": "stdout",
     "text": [
      "[[ 1958  4091 19602 20733 20935 27873]\n",
      " [10073 10073 10073 10073 10073 10073]]\n",
      "[[ 1590  5990 17541 33579]\n",
      " [ 4091 19602 20733 20733]]\n"
     ]
    }
   ],
   "metadata": {}
  },
  {
   "cell_type": "code",
   "execution_count": 34,
   "source": [
    "get_time(lil[4091, 10073])"
   ],
   "outputs": [
    {
     "output_type": "execute_result",
     "data": {
      "text/plain": [
       "{'day': 2, 'hour': 5, 'minute': 41, 'second': 33}"
      ]
     },
     "metadata": {},
     "execution_count": 34
    }
   ],
   "metadata": {}
  },
  {
   "cell_type": "code",
   "execution_count": 22,
   "source": [
    "user_ser[1590]"
   ],
   "outputs": [
    {
     "output_type": "execute_result",
     "data": {
      "text/plain": [
       "'AhYanuar'"
      ]
     },
     "metadata": {},
     "execution_count": 22
    }
   ],
   "metadata": {}
  },
  {
   "cell_type": "code",
   "execution_count": 35,
   "source": [
    "influence_matrix = lil_matrix((1, lil.shape[0]))\r\n",
    "previous_followers = np.array([id_mr_x])\r\n",
    "\r\n",
    "while True:\r\n",
    "    followers, cols = csc[:, previous_followers].nonzero()\r\n",
    "    if not followers.shape[0]:\r\n",
    "        break\r\n",
    "\r\n",
    "    popular_followers = previous_followers[cols]\r\n",
    "\r\n",
    "    for i, j in zip(followers, popular_followers):\r\n",
    "        current_value = influence_matrix[0, i]\r\n",
    "        previous_follower_value = influence_matrix[0, j]\r\n",
    "        target = csr[i, j] + previous_follower_value\r\n",
    "        if current_value > 0:\r\n",
    "            target = np.minimum(current_value, target)\r\n",
    "        influence_matrix[0, i] = target\r\n",
    "\r\n",
    "    previous_followers = followers"
   ],
   "outputs": [],
   "metadata": {}
  },
  {
   "cell_type": "code",
   "execution_count": 36,
   "source": [
    "_, cols = influence_matrix.nonzero()\r\n",
    "res = influence_matrix[0, cols].toarray().flatten()\r\n",
    "# print(np.vstack((cols, res)))\r\n",
    "sort_args = res.argsort()\r\n",
    "res = res[sort_args]\r\n",
    "cols = cols[sort_args]"
   ],
   "outputs": [],
   "metadata": {}
  },
  {
   "cell_type": "code",
   "execution_count": 37,
   "source": [
    "influenced_people = user_ser.loc[cols]\r\n",
    "df = pd.DataFrame([res], columns=list(influenced_people), index=pd.Index([mr_x], name='Influencer'))\r\n",
    "df.to_csv(f'{BASE_PATH}/data/influenza.csv')"
   ],
   "outputs": [],
   "metadata": {}
  },
  {
   "cell_type": "code",
   "execution_count": 39,
   "source": [
    "user_df.loc['Banjarnegara__']"
   ],
   "outputs": [
    {
     "output_type": "execute_result",
     "data": {
      "text/plain": [
       "indice           5990.0\n",
       "processed_at    81105.0\n",
       "Name: Banjarnegara__, dtype: float64"
      ]
     },
     "metadata": {},
     "execution_count": 39
    }
   ],
   "metadata": {}
  }
 ],
 "metadata": {
  "orig_nbformat": 4,
  "language_info": {
   "name": "python",
   "version": "3.7.3",
   "mimetype": "text/x-python",
   "codemirror_mode": {
    "name": "ipython",
    "version": 3
   },
   "pygments_lexer": "ipython3",
   "nbconvert_exporter": "python",
   "file_extension": ".py"
  },
  "kernelspec": {
   "name": "python3",
   "display_name": "Python 3.7.3 64-bit ('chainuser': virtualenvwrapper)"
  },
  "interpreter": {
   "hash": "d00fc8862d8aa2c0037bc6caf2af7fae7af860cee5b45dd478cd5df6a6f8ec5d"
  }
 },
 "nbformat": 4,
 "nbformat_minor": 2
}